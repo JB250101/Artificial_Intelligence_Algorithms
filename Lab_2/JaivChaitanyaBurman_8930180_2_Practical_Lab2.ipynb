{
 "cells": [
  {
   "cell_type": "markdown",
   "metadata": {},
   "source": [
    "# Practical Part A [15 Points]\n",
    "##### Use the Lab2_dataset.csv provided. Your target in this part will be classify texts into Spam vs Not Spam using the Naive Bayes algorithms and comparing them to another type of classification model and comment on the results.\n",
    "\n",
    "## Preprocessing [5 Points]\n",
    "##### • Load the dataset\n",
    "##### • Use the [CountVectorizer](https://scikit-learn.org/stable/modules/generated/sklearn.feature_extraction.text.CountVectorizer.html) function in sklearn to transform the \"text\" feature to a vector representation of a predetermined size.\n",
    "##### • Split the dataset into training and testing"
   ]
  },
  {
   "cell_type": "markdown",
   "metadata": {},
   "source": []
  },
  {
   "cell_type": "code",
   "execution_count": 1,
   "metadata": {},
   "outputs": [],
   "source": [
    "import pandas as pd\n",
    "import numpy as np\n",
    "import seaborn as sns\n",
    "import matplotlib.pyplot as plt\n",
    "from sklearn.feature_extraction.text import CountVectorizer\n",
    "from sklearn.model_selection import train_test_split\n",
    "from sklearn.naive_bayes import MultinomialNB, GaussianNB\n",
    "from sklearn.ensemble import RandomForestClassifier\n",
    "from sklearn.metrics import accuracy_score, classification_report, precision_score, recall_score, f1_score, confusion_matrix"
   ]
  },
  {
   "cell_type": "code",
   "execution_count": 4,
   "metadata": {},
   "outputs": [
    {
     "data": {
      "text/html": [
       "<div>\n",
       "<style scoped>\n",
       "    .dataframe tbody tr th:only-of-type {\n",
       "        vertical-align: middle;\n",
       "    }\n",
       "\n",
       "    .dataframe tbody tr th {\n",
       "        vertical-align: top;\n",
       "    }\n",
       "\n",
       "    .dataframe thead th {\n",
       "        text-align: right;\n",
       "    }\n",
       "</style>\n",
       "<table border=\"1\" class=\"dataframe\">\n",
       "  <thead>\n",
       "    <tr style=\"text-align: right;\">\n",
       "      <th></th>\n",
       "      <th>Unnamed: 0</th>\n",
       "      <th>label</th>\n",
       "      <th>text</th>\n",
       "      <th>label_num</th>\n",
       "    </tr>\n",
       "  </thead>\n",
       "  <tbody>\n",
       "    <tr>\n",
       "      <th>0</th>\n",
       "      <td>605</td>\n",
       "      <td>ham</td>\n",
       "      <td>Subject: enron methanol ; meter # : 988291\\nth...</td>\n",
       "      <td>0</td>\n",
       "    </tr>\n",
       "    <tr>\n",
       "      <th>1</th>\n",
       "      <td>2349</td>\n",
       "      <td>ham</td>\n",
       "      <td>Subject: hpl nom for january 9 , 2001\\n( see a...</td>\n",
       "      <td>0</td>\n",
       "    </tr>\n",
       "    <tr>\n",
       "      <th>2</th>\n",
       "      <td>3624</td>\n",
       "      <td>ham</td>\n",
       "      <td>Subject: neon retreat\\nho ho ho , we ' re arou...</td>\n",
       "      <td>0</td>\n",
       "    </tr>\n",
       "    <tr>\n",
       "      <th>3</th>\n",
       "      <td>4685</td>\n",
       "      <td>spam</td>\n",
       "      <td>Subject: photoshop , windows , office . cheap ...</td>\n",
       "      <td>1</td>\n",
       "    </tr>\n",
       "    <tr>\n",
       "      <th>4</th>\n",
       "      <td>2030</td>\n",
       "      <td>ham</td>\n",
       "      <td>Subject: re : indian springs\\nthis deal is to ...</td>\n",
       "      <td>0</td>\n",
       "    </tr>\n",
       "    <tr>\n",
       "      <th>...</th>\n",
       "      <td>...</td>\n",
       "      <td>...</td>\n",
       "      <td>...</td>\n",
       "      <td>...</td>\n",
       "    </tr>\n",
       "    <tr>\n",
       "      <th>5166</th>\n",
       "      <td>1518</td>\n",
       "      <td>ham</td>\n",
       "      <td>Subject: put the 10 on the ft\\nthe transport v...</td>\n",
       "      <td>0</td>\n",
       "    </tr>\n",
       "    <tr>\n",
       "      <th>5167</th>\n",
       "      <td>404</td>\n",
       "      <td>ham</td>\n",
       "      <td>Subject: 3 / 4 / 2000 and following noms\\nhpl ...</td>\n",
       "      <td>0</td>\n",
       "    </tr>\n",
       "    <tr>\n",
       "      <th>5168</th>\n",
       "      <td>2933</td>\n",
       "      <td>ham</td>\n",
       "      <td>Subject: calpine daily gas nomination\\n&gt;\\n&gt;\\nj...</td>\n",
       "      <td>0</td>\n",
       "    </tr>\n",
       "    <tr>\n",
       "      <th>5169</th>\n",
       "      <td>1409</td>\n",
       "      <td>ham</td>\n",
       "      <td>Subject: industrial worksheets for august 2000...</td>\n",
       "      <td>0</td>\n",
       "    </tr>\n",
       "    <tr>\n",
       "      <th>5170</th>\n",
       "      <td>4807</td>\n",
       "      <td>spam</td>\n",
       "      <td>Subject: important online banking alert\\ndear ...</td>\n",
       "      <td>1</td>\n",
       "    </tr>\n",
       "  </tbody>\n",
       "</table>\n",
       "<p>5171 rows × 4 columns</p>\n",
       "</div>"
      ],
      "text/plain": [
       "      Unnamed: 0 label                                               text  \\\n",
       "0            605   ham  Subject: enron methanol ; meter # : 988291\\nth...   \n",
       "1           2349   ham  Subject: hpl nom for january 9 , 2001\\n( see a...   \n",
       "2           3624   ham  Subject: neon retreat\\nho ho ho , we ' re arou...   \n",
       "3           4685  spam  Subject: photoshop , windows , office . cheap ...   \n",
       "4           2030   ham  Subject: re : indian springs\\nthis deal is to ...   \n",
       "...          ...   ...                                                ...   \n",
       "5166        1518   ham  Subject: put the 10 on the ft\\nthe transport v...   \n",
       "5167         404   ham  Subject: 3 / 4 / 2000 and following noms\\nhpl ...   \n",
       "5168        2933   ham  Subject: calpine daily gas nomination\\n>\\n>\\nj...   \n",
       "5169        1409   ham  Subject: industrial worksheets for august 2000...   \n",
       "5170        4807  spam  Subject: important online banking alert\\ndear ...   \n",
       "\n",
       "      label_num  \n",
       "0             0  \n",
       "1             0  \n",
       "2             0  \n",
       "3             1  \n",
       "4             0  \n",
       "...         ...  \n",
       "5166          0  \n",
       "5167          0  \n",
       "5168          0  \n",
       "5169          0  \n",
       "5170          1  \n",
       "\n",
       "[5171 rows x 4 columns]"
      ]
     },
     "execution_count": 4,
     "metadata": {},
     "output_type": "execute_result"
    }
   ],
   "source": [
    "\n",
    "\n",
    "data_Lab2_JB = pd.read_csv('./Lab2_dataset.csv')\n",
    "data_Lab2_JB.head()\n",
    "data_Lab2_JB\n"
   ]
  },
  {
   "cell_type": "code",
   "execution_count": 5,
   "metadata": {},
   "outputs": [],
   "source": [
    "# Create an instance of CountVectorizer\n",
    "vectorizer = CountVectorizer(max_features=5)  # Specify the max number of features\n",
    "\n",
    "# Transform the 'text' column to a vectorized representation\n",
    "X = vectorizer.fit_transform(data_Lab2_JB['text']).toarray()\n",
    "\n",
    "# Get target variable\n",
    "y = data_Lab2_JB['label_num']  # Assuming the target column is named 'label_num'\n"
   ]
  },
  {
   "cell_type": "code",
   "execution_count": 6,
   "metadata": {},
   "outputs": [
    {
     "name": "stdout",
     "output_type": "stream",
     "text": [
      "(3878, 5) (1293, 5) (3878,) (1293,)\n"
     ]
    }
   ],
   "source": [
    "# Split the data into training and testing sets\n",
    "X_train, X_test, y_train, y_test = train_test_split(X, y, test_size=0.25, random_state=42)\n",
    "\n",
    "# Check the shape of the training and testing data\n",
    "print(X_train.shape, X_test.shape, y_train.shape, y_test.shape)\n"
   ]
  },
  {
   "cell_type": "markdown",
   "metadata": {},
   "source": [
    "## Model Training and Evaluation [10 Points]\n"
   ]
  },
  {
   "cell_type": "markdown",
   "metadata": {},
   "source": [
    "##### • Train the Sklearn RandomForestClassifier model on the training dataset and evaluate on the test set\n",
    "##### • Train and evaluate also on the Gaussian and Multinomial Naiive Bayes Classifiers\n",
    "##### • Compare between the performance of all models and comment on the reasons behind the differences seen between the three models.\n",
    "##### ***• Note that the RandomForestClassifier model doesn't make the same assumptions as the other Naiive Bayes models***"
   ]
  },
  {
   "cell_type": "code",
   "execution_count": 7,
   "metadata": {},
   "outputs": [
    {
     "name": "stdout",
     "output_type": "stream",
     "text": [
      "Random Forest Classifier Results:\n",
      "              precision    recall  f1-score   support\n",
      "\n",
      "           0       0.82      0.86      0.84       930\n",
      "           1       0.59      0.52      0.55       363\n",
      "\n",
      "    accuracy                           0.76      1293\n",
      "   macro avg       0.70      0.69      0.69      1293\n",
      "weighted avg       0.75      0.76      0.76      1293\n",
      "\n"
     ]
    }
   ],
   "source": [
    "# Initialize Random Forest Classifier\n",
    "rf_model = RandomForestClassifier(random_state=42)\n",
    "\n",
    "# Train the model\n",
    "rf_model.fit(X_train, y_train)\n",
    "\n",
    "# Predict on the test set\n",
    "rf_predictions = rf_model.predict(X_test)\n",
    "\n",
    "# Evaluate performance\n",
    "print(\"Random Forest Classifier Results:\")\n",
    "print(classification_report(y_test, rf_predictions))\n"
   ]
  },
  {
   "cell_type": "code",
   "execution_count": 8,
   "metadata": {},
   "outputs": [
    {
     "name": "stdout",
     "output_type": "stream",
     "text": [
      "Gaussian Naive Bayes Results:\n",
      "              precision    recall  f1-score   support\n",
      "\n",
      "           0       1.00      0.25      0.39       930\n",
      "           1       0.34      1.00      0.51       363\n",
      "\n",
      "    accuracy                           0.46      1293\n",
      "   macro avg       0.67      0.62      0.45      1293\n",
      "weighted avg       0.81      0.46      0.43      1293\n",
      "\n"
     ]
    }
   ],
   "source": [
    "# Since GaussianNB expects 2D array input, we will reshape\n",
    "gnb_model = GaussianNB()\n",
    "\n",
    "# Fit the model\n",
    "gnb_model.fit(X_train, y_train)\n",
    "\n",
    "# Make predictions\n",
    "gnb_predictions = gnb_model.predict(X_test)\n",
    "\n",
    "# Evaluate performance\n",
    "print(\"Gaussian Naive Bayes Results:\")\n",
    "print(classification_report(y_test, gnb_predictions))\n"
   ]
  },
  {
   "cell_type": "code",
   "execution_count": 9,
   "metadata": {},
   "outputs": [
    {
     "name": "stdout",
     "output_type": "stream",
     "text": [
      "Multinomial Naive Bayes Results:\n",
      "              precision    recall  f1-score   support\n",
      "\n",
      "           0       0.76      0.61      0.68       930\n",
      "           1       0.34      0.51      0.41       363\n",
      "\n",
      "    accuracy                           0.58      1293\n",
      "   macro avg       0.55      0.56      0.54      1293\n",
      "weighted avg       0.64      0.58      0.60      1293\n",
      "\n"
     ]
    }
   ],
   "source": [
    "# Initialize Multinomial Naive Bayes\n",
    "mnb_model = MultinomialNB()\n",
    "\n",
    "# Fit the model\n",
    "mnb_model.fit(X_train, y_train)\n",
    "\n",
    "# Make predictions\n",
    "mnb_predictions = mnb_model.predict(X_test)\n",
    "\n",
    "# Evaluate performance\n",
    "print(\"Multinomial Naive Bayes Results:\")\n",
    "print(classification_report(y_test, mnb_predictions))\n"
   ]
  },
  {
   "cell_type": "code",
   "execution_count": 11,
   "metadata": {},
   "outputs": [
    {
     "name": "stdout",
     "output_type": "stream",
     "text": [
      "label\n",
      "ham     3672\n",
      "spam    1499\n",
      "Name: count, dtype: int64\n",
      "(5171, 5)\n",
      "0    0\n",
      "1    0\n",
      "2    0\n",
      "3    1\n",
      "4    0\n",
      "5    0\n",
      "6    0\n",
      "7    1\n",
      "8    0\n",
      "9    0\n",
      "Name: label_num, dtype: int64\n",
      "(3878, 5) (1293, 5) (3878,) (1293,)\n"
     ]
    },
    {
     "data": {
      "image/png": "[encoded data removed]",
      "text/plain": [
       "<Figure size 640x480 with 1 Axes>"
      ]
     },
     "metadata": {},
     "output_type": "display_data"
    }
   ],
   "source": [
    "# Store the precision, recall, and f1 scores for comparison\n",
    "models = ['Random Forest', 'Gaussian NB', 'Multinomial NB']\n",
    "accuracies = [\n",
    "    rf_model.score(X_test, y_test),\n",
    "    gnb_model.score(X_test, y_test),\n",
    "    mnb_model.score(X_test, y_test)\n",
    "]\n",
    "print(data_Lab2_JB['label'].value_counts())\n",
    "print(X.shape)  # should return (number_of_samples, max_features)\n",
    "print(y[:10])  # Display the first few labels\n",
    "print(X_train.shape, X_test.shape, y_train.shape, y_test.shape)\n",
    "\n",
    "# Plotting the accuracies\n",
    "plt.bar(models, accuracies, color=['blue', 'orange', 'green'])\n",
    "plt.xlabel('Models')\n",
    "plt.ylabel('Accuracy')\n",
    "plt.title('Model Accuracy Comparison')\n",
    "plt.ylim(0, 1)\n",
    "plt.show()"
   ]
  },
  {
   "cell_type": "markdown",
   "metadata": {},
   "source": [
    "##### Random Forest outperforms Naive Bayes models in terms of accuracy and overall performance due to its superior handling of class imbalance.\n",
    "\n",
    "##### Gaussian Naive Bayes faces challenges with accuracy and lacks balanced performance.\n",
    "\n",
    "##### Multinomial Naive Bayes outperforms Gaussian Naive Bayes by a small margin but falls short compared to Random Forest."
   ]
  },
  {
   "cell_type": "code",
   "execution_count": 19,
   "metadata": {},
   "outputs": [
    {
     "name": "stdout",
     "output_type": "stream",
     "text": [
      "     id                                              name  host_id  \\\n",
      "0  2539                Clean & quiet apt home by the park     2787   \n",
      "1  2595                             Skylit Midtown Castle     2845   \n",
      "2  3647               THE VILLAGE OF HARLEM....NEW YORK !     4632   \n",
      "3  3831                   Cozy Entire Floor of Brownstone     4869   \n",
      "4  5022  Entire Apt: Spacious Studio/Loft by central park     7192   \n",
      "\n",
      "     host_name neighbourhood_group neighbourhood  latitude  longitude  \\\n",
      "0         John            Brooklyn    Kensington  40.64749  -73.97237   \n",
      "1     Jennifer           Manhattan       Midtown  40.75362  -73.98377   \n",
      "2    Elisabeth           Manhattan        Harlem  40.80902  -73.94190   \n",
      "3  LisaRoxanne            Brooklyn  Clinton Hill  40.68514  -73.95976   \n",
      "4        Laura           Manhattan   East Harlem  40.79851  -73.94399   \n",
      "\n",
      "         room_type  price  minimum_nights  number_of_reviews last_review  \\\n",
      "0     Private room    149               1                  9  2018-10-19   \n",
      "1  Entire home/apt    225               1                 45  2019-05-21   \n",
      "2     Private room    150               3                  0         NaN   \n",
      "3  Entire home/apt     89               1                270  2019-07-05   \n",
      "4  Entire home/apt     80              10                  9  2018-11-19   \n",
      "\n",
      "   reviews_per_month  calculated_host_listings_count  availability_365  \n",
      "0               0.21                               6               365  \n",
      "1               0.38                               2               355  \n",
      "2                NaN                               1               365  \n",
      "3               4.64                               1               194  \n",
      "4               0.10                               1                 0  \n"
     ]
    }
   ],
   "source": [
    "data_Lab2_2019_JB = pd.read_csv('./AB_NYC_2019.csv')\n",
    "print(data_Lab2_2019_JB.head())"
   ]
  },
  {
   "cell_type": "code",
   "execution_count": 20,
   "metadata": {},
   "outputs": [],
   "source": [
    "data_Lab2_2019_JB = data_Lab2_2019_JB[data_Lab2_2019_JB['price'].notna()]"
   ]
  },
  {
   "cell_type": "code",
   "execution_count": 21,
   "metadata": {},
   "outputs": [],
   "source": [
    "from scipy import stats\n"
   ]
  },
  {
   "cell_type": "code",
   "execution_count": 22,
   "metadata": {},
   "outputs": [
    {
     "name": "stdout",
     "output_type": "stream",
     "text": [
      "0        0.015493\n",
      "1        0.300974\n",
      "2        0.011329\n",
      "3        0.265335\n",
      "4        0.302811\n",
      "           ...   \n",
      "48890    0.344452\n",
      "48891    0.469373\n",
      "48892    0.157070\n",
      "48893    0.406912\n",
      "48894    0.261171\n",
      "Name: price, Length: 48895, dtype: float64\n"
     ]
    }
   ],
   "source": [
    "z_scores = stats.zscore(data_Lab2_2019_JB['price'])\n",
    "abs_z_scores = abs(z_scores)\n",
    "print(abs_z_scores)\n",
    "\n",
    "z_threshold = 3\n",
    "clean_data_z = data_Lab2_2019_JB[abs_z_scores < z_threshold]"
   ]
  },
  {
   "cell_type": "code",
   "execution_count": 23,
   "metadata": {},
   "outputs": [],
   "source": [
    "# Calculate Q1 (25th percentile) and Q3 (75th percentile)\n",
    "Q1 = data_Lab2_2019_JB['price'].quantile(0.25)\n",
    "Q3 = data_Lab2_2019_JB['price'].quantile(0.75)\n",
    "\n",
    "# Calculate IQR\n",
    "IQR = Q3 - Q1\n",
    "\n",
    "# Define outlier bounds\n",
    "lower_bound = Q1 - 1.5 * IQR\n",
    "upper_bound = Q3 + 1.5 * IQR\n",
    "\n",
    "# Filter the data_Lab2_2019_JB\n",
    "clean_data_iqr = data_Lab2_2019_JB[(data_Lab2_2019_JB['price'] >= lower_bound) & (data_Lab2_2019_JB['price'] <= upper_bound)]\n"
   ]
  },
  {
   "cell_type": "code",
   "execution_count": 24,
   "metadata": {},
   "outputs": [
    {
     "name": "stdout",
     "output_type": "stream",
     "text": [
      "Original dataset size: 48895\n",
      "Size after Z-score outlier removal: 48507\n",
      "Size after IQR outlier removal: 45923\n"
     ]
    }
   ],
   "source": [
    "# Output the number of records before and after cleaning\n",
    "print(f\"Original dataset size: {data_Lab2_2019_JB.shape[0]}\")\n",
    "print(f\"Size after Z-score outlier removal: {clean_data_z.shape[0]}\")\n",
    "print(f\"Size after IQR outlier removal: {clean_data_iqr.shape[0]}\")\n"
   ]
  },
  {
   "cell_type": "code",
   "execution_count": 25,
   "metadata": {},
   "outputs": [
    {
     "name": "stdout",
     "output_type": "stream",
     "text": [
      "Z-score cleaned data price statistics:\n",
      "count    48507.000000\n",
      "mean       138.746903\n",
      "std        107.558233\n",
      "min          0.000000\n",
      "25%         69.000000\n",
      "50%        105.000000\n",
      "75%        175.000000\n",
      "max        860.000000\n",
      "Name: price, dtype: float64\n",
      "IQR cleaned data price statistics:\n",
      "count    45923.000000\n",
      "mean       119.970320\n",
      "std         68.150148\n",
      "min          0.000000\n",
      "25%         65.000000\n",
      "50%        100.000000\n",
      "75%        159.000000\n",
      "max        334.000000\n",
      "Name: price, dtype: float64\n"
     ]
    }
   ],
   "source": [
    "print(\"Z-score cleaned data price statistics:\")\n",
    "print(clean_data_z['price'].describe())\n",
    "\n",
    "print(\"IQR cleaned data price statistics:\")\n",
    "print(clean_data_iqr['price'].describe())"
   ]
  },
  {
   "cell_type": "code",
   "execution_count": 26,
   "metadata": {},
   "outputs": [
    {
     "data": {
      "image/png": "[encoded data removed]",
      "text/plain": [
       "<Figure size 1200x600 with 3 Axes>"
      ]
     },
     "metadata": {},
     "output_type": "display_data"
    }
   ],
   "source": [
    "plt.figure(figsize=(12, 6))\n",
    "\n",
    "# Boxplot before cleaning\n",
    "plt.subplot(1, 3, 1)\n",
    "sns.boxplot(y=data_Lab2_2019_JB['price'])\n",
    "plt.title('Original Price Distribution')\n",
    "\n",
    "# Z-score cleaned\n",
    "plt.subplot(1, 3, 2)\n",
    "sns.boxplot(y=clean_data_z['price'])\n",
    "plt.title('Z-score Cleaned Price Distribution')\n",
    "\n",
    "# IQR cleaned\n",
    "plt.subplot(1, 3, 3)\n",
    "sns.boxplot(y=clean_data_iqr['price'])\n",
    "plt.title('IQR Cleaned Price Distribution')\n",
    "\n",
    "plt.tight_layout()\n",
    "plt.show()"
   ]
  },
  {
   "cell_type": "code",
   "execution_count": null,
   "metadata": {},
   "outputs": [],
   "source": []
  }
 ],
 "metadata": {
  "kernelspec": {
   "display_name": "CSCN8010_classic_ml",
   "language": "python",
   "name": "cscn8010_classic_ml"
  },
  "language_info": {
   "codemirror_mode": {
    "name": "ipython",
    "version": 3
   },
   "file_extension": ".py",
   "mimetype": "text/x-python",
   "name": "python",
   "nbconvert_exporter": "python",
   "pygments_lexer": "ipython3",
   "version": "3.11.5"
  }
 },
 "nbformat": 4,
 "nbformat_minor": 2
}
