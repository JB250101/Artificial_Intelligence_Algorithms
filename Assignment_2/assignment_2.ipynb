{
 "cells": [
  {
   "cell_type": "code",
   "execution_count": 1,
   "metadata": {},
   "outputs": [],
   "source": [
    "import pandas as pd\n",
    "from sklearn.tree import DecisionTreeClassifier, export_text\n",
    "\n"
   ]
  },
  {
   "cell_type": "code",
   "execution_count": 2,
   "metadata": {},
   "outputs": [],
   "source": [
    "# Create the dataset\n",
    "data = {\n",
    "    'ID': [1, 2, 3, 4, 5, 6],\n",
    "    'Good Behaviour': [False, False, False, True, True, True],\n",
    "    'Age<30': [True, False, True, False, False, False],\n",
    "    'Drug Dependent': [False, False, False, False, True, False],\n",
    "    'RECIDIVIST': [True, False, True, False, True, False]\n",
    "}\n",
    "\n",
    "# Convert into a DataFrame\n",
    "df = pd.DataFrame(data)"
   ]
  },
  {
   "cell_type": "code",
   "execution_count": 3,
   "metadata": {},
   "outputs": [
    {
     "data": {
      "text/html": [
       "<div>\n",
       "<style scoped>\n",
       "    .dataframe tbody tr th:only-of-type {\n",
       "        vertical-align: middle;\n",
       "    }\n",
       "\n",
       "    .dataframe tbody tr th {\n",
       "        vertical-align: top;\n",
       "    }\n",
       "\n",
       "    .dataframe thead th {\n",
       "        text-align: right;\n",
       "    }\n",
       "</style>\n",
       "<table border=\"1\" class=\"dataframe\">\n",
       "  <thead>\n",
       "    <tr style=\"text-align: right;\">\n",
       "      <th></th>\n",
       "      <th>ID</th>\n",
       "      <th>Good Behaviour</th>\n",
       "      <th>Age&lt;30</th>\n",
       "      <th>Drug Dependent</th>\n",
       "      <th>RECIDIVIST</th>\n",
       "    </tr>\n",
       "  </thead>\n",
       "  <tbody>\n",
       "    <tr>\n",
       "      <th>0</th>\n",
       "      <td>1</td>\n",
       "      <td>False</td>\n",
       "      <td>True</td>\n",
       "      <td>False</td>\n",
       "      <td>True</td>\n",
       "    </tr>\n",
       "    <tr>\n",
       "      <th>1</th>\n",
       "      <td>2</td>\n",
       "      <td>False</td>\n",
       "      <td>False</td>\n",
       "      <td>False</td>\n",
       "      <td>False</td>\n",
       "    </tr>\n",
       "    <tr>\n",
       "      <th>2</th>\n",
       "      <td>3</td>\n",
       "      <td>False</td>\n",
       "      <td>True</td>\n",
       "      <td>False</td>\n",
       "      <td>True</td>\n",
       "    </tr>\n",
       "    <tr>\n",
       "      <th>3</th>\n",
       "      <td>4</td>\n",
       "      <td>True</td>\n",
       "      <td>False</td>\n",
       "      <td>False</td>\n",
       "      <td>False</td>\n",
       "    </tr>\n",
       "    <tr>\n",
       "      <th>4</th>\n",
       "      <td>5</td>\n",
       "      <td>True</td>\n",
       "      <td>False</td>\n",
       "      <td>True</td>\n",
       "      <td>True</td>\n",
       "    </tr>\n",
       "    <tr>\n",
       "      <th>5</th>\n",
       "      <td>6</td>\n",
       "      <td>True</td>\n",
       "      <td>False</td>\n",
       "      <td>False</td>\n",
       "      <td>False</td>\n",
       "    </tr>\n",
       "  </tbody>\n",
       "</table>\n",
       "</div>"
      ],
      "text/plain": [
       "   ID  Good Behaviour  Age<30  Drug Dependent  RECIDIVIST\n",
       "0   1           False    True           False        True\n",
       "1   2           False   False           False       False\n",
       "2   3           False    True           False        True\n",
       "3   4            True   False           False       False\n",
       "4   5            True   False            True        True\n",
       "5   6            True   False           False       False"
      ]
     },
     "execution_count": 3,
     "metadata": {},
     "output_type": "execute_result"
    }
   ],
   "source": [
    "df"
   ]
  },
  {
   "cell_type": "code",
   "execution_count": 11,
   "metadata": {},
   "outputs": [
    {
     "name": "stdout",
     "output_type": "stream",
     "text": [
      "|--- Age<30 <= 0.50\n",
      "|   |--- Drug Dependent <= 0.50\n",
      "|   |   |--- class: False\n",
      "|   |--- Drug Dependent >  0.50\n",
      "|   |   |--- class: True\n",
      "|--- Age<30 >  0.50\n",
      "|   |--- class: True\n",
      "\n"
     ]
    }
   ],
   "source": [
    "# Define features and target variable\n",
    "X = df[['Good Behaviour', 'Age<30', 'Drug Dependent']]\n",
    "y = df['RECIDIVIST']\n",
    "\n",
    "# Create Decision Tree Classifier\n",
    "clf = DecisionTreeClassifier(criterion='entropy')\n",
    "\n",
    "# Fit the model\n",
    "clf.fit(X, y)\n",
    "\n",
    "# Print the Decision Tree in a readable format\n",
    "tree_rules = export_text(clf, feature_names=list(X.columns))\n",
    "print(tree_rules)"
   ]
  },
  {
   "cell_type": "code",
   "execution_count": 12,
   "metadata": {},
   "outputs": [],
   "source": [
    "# Define the query\n",
    "query = pd.DataFrame({\n",
    "    'Good Behaviour': [True],\n",
    "    'Age<30': [True],\n",
    "    'Drug Dependent': [False]\n",
    "})\n"
   ]
  },
  {
   "cell_type": "code",
   "execution_count": 13,
   "metadata": {},
   "outputs": [],
   "source": [
    "# Make the prediction\n",
    "prediction = clf.predict(query)"
   ]
  },
  {
   "cell_type": "code",
   "execution_count": 14,
   "metadata": {},
   "outputs": [
    {
     "name": "stdout",
     "output_type": "stream",
     "text": [
      "Prediction for the query (GOOD BEHAVIOR = false, AGE < 30 = false, DRUG DEPENDENT = true): True\n"
     ]
    }
   ],
   "source": [
    "# Output the prediction\n",
    "print(\"Prediction for the query (GOOD BEHAVIOR = false, AGE < 30 = false, DRUG DEPENDENT = true):\", prediction[0])\n"
   ]
  },
  {
   "cell_type": "code",
   "execution_count": null,
   "metadata": {},
   "outputs": [],
   "source": []
  }
 ],
 "metadata": {
  "kernelspec": {
   "display_name": "CSCN8010_classic_ml",
   "language": "python",
   "name": "cscn8010_classic_ml"
  },
  "language_info": {
   "codemirror_mode": {
    "name": "ipython",
    "version": 3
   },
   "file_extension": ".py",
   "mimetype": "text/x-python",
   "name": "python",
   "nbconvert_exporter": "python",
   "pygments_lexer": "ipython3",
   "version": "3.11.5"
  }
 },
 "nbformat": 4,
 "nbformat_minor": 2
}
